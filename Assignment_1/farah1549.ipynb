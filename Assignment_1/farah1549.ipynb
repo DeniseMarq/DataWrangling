{
 "cells": [
  {
   "cell_type": "code",
   "execution_count": 1,
   "id": "205aaba4-0924-4baf-80a8-7c21ea86952e",
   "metadata": {},
   "outputs": [
    {
     "name": "stdout",
     "output_type": "stream",
     "text": [
      "72\n"
     ]
    }
   ],
   "source": [
    "print(8 * 9)\n"
   ]
  },
  {
   "cell_type": "code",
   "execution_count": null,
   "id": "589a7d04-6b64-4ed6-9fc4-58ac87007fc6",
   "metadata": {},
   "outputs": [],
   "source": []
  },
  {
   "cell_type": "code",
   "execution_count": null,
   "id": "06110858-c142-4ccc-9877-9843cdcdcce4",
   "metadata": {},
   "outputs": [],
   "source": []
  }
 ],
 "metadata": {
  "kernelspec": {
   "display_name": "Python [conda env:base] *",
   "language": "python",
   "name": "conda-base-py"
  },
  "language_info": {
   "codemirror_mode": {
    "name": "ipython",
    "version": 3
   },
   "file_extension": ".py",
   "mimetype": "text/x-python",
   "name": "python",
   "nbconvert_exporter": "python",
   "pygments_lexer": "ipython3",
   "version": "3.12.7"
  }
 },
 "nbformat": 4,
 "nbformat_minor": 5
}
