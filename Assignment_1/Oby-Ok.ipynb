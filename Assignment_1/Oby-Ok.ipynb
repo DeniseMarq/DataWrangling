{
 "cells": [
  {
   "cell_type": "code",
   "execution_count": 1,
   "id": "75853f79-dd35-4370-a33a-676058f1bda0",
   "metadata": {},
   "outputs": [
    {
     "name": "stdout",
     "output_type": "stream",
     "text": [
      "Hello, Data Wrangling!\n"
     ]
    }
   ],
   "source": [
    "print(\"Hello, Data Wrangling!\")\n",
    "\n"
   ]
  },
  {
   "cell_type": "code",
   "execution_count": null,
   "id": "2d9e73c2-e1e4-44d4-bd61-aca0cc6411e9",
   "metadata": {},
   "outputs": [],
   "source": []
  }
 ],
 "metadata": {
  "kernelspec": {
   "display_name": "Python 3 (ipykernel)",
   "language": "python",
   "name": "python3"
  },
  "language_info": {
   "codemirror_mode": {
    "name": "ipython",
    "version": 3
   },
   "file_extension": ".py",
   "mimetype": "text/x-python",
   "name": "python",
   "nbconvert_exporter": "python",
   "pygments_lexer": "ipython3",
   "version": "3.12.2"
  }
 },
 "nbformat": 4,
 "nbformat_minor": 5
}
