{
 "cells": [
  {
   "cell_type": "markdown",
   "id": "1ea85a35-3ab0-446b-83c7-b8f956429437",
   "metadata": {},
   "source": [
    "## This is my first notebook file\n",
    "\n",
    "__Ivan__\n",
    "\n"
   ]
  },
  {
   "cell_type": "code",
   "execution_count": 3,
   "id": "4288ce72-a133-4954-8f9f-4f32dc7e1f6e",
   "metadata": {},
   "outputs": [
    {
     "name": "stdout",
     "output_type": "stream",
     "text": [
      "1.26.4\n",
      "2.2.2\n",
      "9\n"
     ]
    }
   ],
   "source": [
    "## As always, we start with any libraries we will need:\n",
    "# Updated on 14 Jan 2025\n",
    "\n",
    "import numpy as np\n",
    "import pandas\n",
    "from sklearn import datasets\n",
    "\n",
    "## Wait, do we have the correct version of Pandas?  It should be at least 1.0\n",
    "\n",
    "print(np.__version__)\n",
    "print(pandas.__version__ ) ##double underscore\n",
    "\n",
    "print(2+7)"
   ]
  },
  {
   "cell_type": "code",
   "execution_count": null,
   "id": "987a1847-8425-449a-a202-78a570b99a2a",
   "metadata": {},
   "outputs": [],
   "source": []
  }
 ],
 "metadata": {
  "kernelspec": {
   "display_name": "Python 3 (ipykernel)",
   "language": "python",
   "name": "python3"
  },
  "language_info": {
   "codemirror_mode": {
    "name": "ipython",
    "version": 3
   },
   "file_extension": ".py",
   "mimetype": "text/x-python",
   "name": "python",
   "nbconvert_exporter": "python",
   "pygments_lexer": "ipython3",
   "version": "3.12.7"
  }
 },
 "nbformat": 4,
 "nbformat_minor": 5
}
