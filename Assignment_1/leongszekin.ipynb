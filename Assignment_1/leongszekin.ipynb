{
 "cells": [
  {
   "cell_type": "markdown",
   "id": "8e74125c-ddc1-4fe4-980d-2ee220c6d72b",
   "metadata": {},
   "source": [
    "# Introduction\n",
    "\n",
    "The notebook was created by Sijian Liang (Cindy) to complete assignment 1: \"Create a new jupyter notebook (.ipynb) file, that does anything you would like, and put it in the \"Assignment 1\" folder.\""
   ]
  },
  {
   "cell_type": "code",
   "execution_count": 1,
   "id": "aa0eb6f1-47c5-437f-a90c-3c51402bfb94",
   "metadata": {},
   "outputs": [],
   "source": [
    "# Write a program to draw a face of a clock by using import turtle:\n",
    "\n",
    "import turtle\n",
    "wn = turtle.Screen()\n",
    "wn.bgcolor(\"lightgreen\")\n",
    "\n",
    "tess = turtle.Turtle()\n",
    "tess.color(\"blue\")\n",
    "tess.shape(\"turtle\")\n",
    "\n",
    "tess.stamp()\n",
    "\n",
    "for size in range(0,360,30):\n",
    "    tess.left(30)\n",
    "    tess.up()\n",
    "    tess.forward(120)\n",
    "    tess.pendown()\n",
    "    tess.forward(5)\n",
    "    tess.up()\n",
    "    tess.forward(15)\n",
    "    tess.stamp()\n",
    "    tess.backward(140)\n",
    "\n",
    "wn.exitonclick()"
   ]
  },
  {
   "cell_type": "markdown",
   "id": "78d8cac3",
   "metadata": {},
   "source": [
    "# Git Command Summary\n",
    "\n",
    "git clone \n",
    "\n",
    "git pull\n",
    "\n",
    "git add filename.ipynb\n",
    "\n",
    "git add .\n",
    "\n",
    "git commit -m \"meaningful message here\"\n",
    "\n",
    "git status\n",
    "\n",
    "git push\n",
    "\n",
    "git fork"
   ]
  }
 ],
 "metadata": {
  "kernelspec": {
   "display_name": "Python 3 (ipykernel)",
   "language": "python",
   "name": "python3"
  },
  "language_info": {
   "codemirror_mode": {
    "name": "ipython",
    "version": 3
   },
   "file_extension": ".py",
   "mimetype": "text/x-python",
   "name": "python",
   "nbconvert_exporter": "python",
   "pygments_lexer": "ipython3",
   "version": "3.12.7"
  }
 },
 "nbformat": 4,
 "nbformat_minor": 5
}
