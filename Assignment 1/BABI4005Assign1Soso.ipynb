{
 "cells": [
  {
   "cell_type": "markdown",
   "id": "0626c9d2-76d9-431e-8c85-179c896eb77b",
   "metadata": {},
   "source": [
    "Hi! I am Soso from ITMG Set 4J!"
   ]
  },
  {
   "cell_type": "markdown",
   "id": "a3fdb638-83f1-45a0-a281-94440bad34d6",
   "metadata": {},
   "source": [
    "This is my first ipynb file created by Jupyter!"
   ]
  },
  {
   "cell_type": "code",
   "execution_count": null,
   "id": "0f1630ed-ba59-4b20-86d5-c148838673e8",
   "metadata": {},
   "outputs": [],
   "source": []
  },
  {
   "cell_type": "code",
   "execution_count": null,
   "id": "ce75fbfd-5f0e-4aef-9b3b-b13bb8892f52",
   "metadata": {},
   "outputs": [],
   "source": []
  }
 ],
 "metadata": {
  "kernelspec": {
   "display_name": "Python 3 (ipykernel)",
   "language": "python",
   "name": "python3"
  },
  "language_info": {
   "codemirror_mode": {
    "name": "ipython",
    "version": 3
   },
   "file_extension": ".py",
   "mimetype": "text/x-python",
   "name": "python",
   "nbconvert_exporter": "python",
   "pygments_lexer": "ipython3",
   "version": "3.12.2"
  }
 },
 "nbformat": 4,
 "nbformat_minor": 5
}
