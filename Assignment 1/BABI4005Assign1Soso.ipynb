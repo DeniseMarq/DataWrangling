{
 "cells": [
  {
   "cell_type": "code",
   "execution_count": null,
   "id": "1780ac1d-4fa9-4b51-a17b-f820c0f07311",
   "metadata": {},
   "outputs": [],
   "source": [
    "Hi! I am Soso from ITMG Set 4J!"
   ]
  },
  {
   "cell_type": "code",
   "execution_count": null,
   "id": "0257a20e-6552-48e4-a8f0-32a2701e7565",
   "metadata": {},
   "outputs": [],
   "source": [
    "This is my first ipynb file created by Jupyter!"
   ]
  }
 ],
 "metadata": {
  "kernelspec": {
   "display_name": "Python 3 (ipykernel)",
   "language": "python",
   "name": "python3"
  },
  "language_info": {
   "codemirror_mode": {
    "name": "ipython",
    "version": 3
   },
   "file_extension": ".py",
   "mimetype": "text/x-python",
   "name": "python",
   "nbconvert_exporter": "python",
   "pygments_lexer": "ipython3",
   "version": "3.12.2"
  }
 },
 "nbformat": 4,
 "nbformat_minor": 5
}
