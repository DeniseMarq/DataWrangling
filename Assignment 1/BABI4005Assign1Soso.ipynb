{
 "cells": [
  {
   "cell_type": "code",
   "execution_count": null,
   "id": "025c5ae9-a966-428a-92ab-dfb9726d7f2d",
   "metadata": {},
   "outputs": [],
   "source": [
    "print(\"This is my first file created on Jupyter Notebook for BABI4005 Assign1 and this is interesting!\")"
   ]
  }
 ],
 "metadata": {
  "kernelspec": {
   "display_name": "Python 3 (ipykernel)",
   "language": "python",
   "name": "python3"
  },
  "language_info": {
   "codemirror_mode": {
    "name": "ipython",
    "version": 3
   },
   "file_extension": ".py",
   "mimetype": "text/x-python",
   "name": "python",
   "nbconvert_exporter": "python",
   "pygments_lexer": "ipython3",
   "version": "3.12.2"
  }
 },
 "nbformat": 4,
 "nbformat_minor": 5
}
