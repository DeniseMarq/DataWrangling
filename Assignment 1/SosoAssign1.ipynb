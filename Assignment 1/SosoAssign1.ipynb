{
 "cells": [
  {
   "cell_type": "markdown",
   "id": "35592bc0-e76a-49eb-84ea-31a8a699027b",
   "metadata": {},
   "source": [
    "Hi I am Soso"
   ]
  }
 ],
 "metadata": {
  "kernelspec": {
   "display_name": "Python 3 (ipykernel)",
   "language": "python",
   "name": "python3"
  },
  "language_info": {
   "codemirror_mode": {
    "name": "ipython",
    "version": 3
   },
   "file_extension": ".py",
   "mimetype": "text/x-python",
   "name": "python",
   "nbconvert_exporter": "python",
   "pygments_lexer": "ipython3",
   "version": "3.12.2"
  }
 },
 "nbformat": 4,
 "nbformat_minor": 5
}
