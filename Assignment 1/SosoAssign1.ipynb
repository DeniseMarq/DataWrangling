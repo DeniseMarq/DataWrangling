Print("Hi! I am Soso! This is my ipynb file for Assignment1!")
