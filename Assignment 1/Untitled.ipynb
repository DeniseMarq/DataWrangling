{
 "cells": [
  {
   "cell_type": "code",
   "execution_count": null,
   "id": "714a7de4-9c42-4a9e-9cf4-a2ca733f79bc",
   "metadata": {},
   "outputs": [],
   "source": [
    "hello"
   ]
  },
  {
   "cell_type": "code",
   "execution_count": null,
   "id": "bca5e276-7b50-415f-910c-b0851553e827",
   "metadata": {},
   "outputs": [],
   "source": [
    "I am Soso"
   ]
  }
 ],
 "metadata": {
  "kernelspec": {
   "display_name": "",
   "name": ""
  },
  "language_info": {
   "name": ""
  }
 },
 "nbformat": 4,
 "nbformat_minor": 5
}
