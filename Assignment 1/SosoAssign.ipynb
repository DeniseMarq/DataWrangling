{
 "cells": [
  {
   "cell_type": "code",
   "execution_count": null,
   "id": "f1a373a3-14ad-46d5-8a8b-0941f7d7b291",
   "metadata": {},
   "outputs": [],
   "source": [
    "Hi I am Soso from BITMAN Set 4J"
   ]
  }
 ],
 "metadata": {
  "kernelspec": {
   "display_name": "",
   "name": ""
  },
  "language_info": {
   "name": ""
  }
 },
 "nbformat": 4,
 "nbformat_minor": 5
}
